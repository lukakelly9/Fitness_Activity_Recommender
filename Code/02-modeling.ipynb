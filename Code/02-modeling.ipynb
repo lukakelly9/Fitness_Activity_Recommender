{
 "cells": [
  {
   "cell_type": "markdown",
   "id": "288525d2-d372-46af-83bf-a55882c18400",
   "metadata": {},
   "source": [
    "# Modeling"
   ]
  },
  {
   "cell_type": "markdown",
   "id": "0c6a49c5-c0de-4636-88ea-c079690b8d90",
   "metadata": {
    "tags": []
   },
   "source": [
    "## K-Means Clustering"
   ]
  },
  {
   "cell_type": "code",
   "execution_count": 1,
   "id": "70388049-d34e-4633-959f-e40db3ffd18f",
   "metadata": {
    "tags": []
   },
   "outputs": [],
   "source": [
    "from sklearn.cluster import KMeans\n",
    "from sklearn.metrics import silhouette_score\n",
    "from sklearn.preprocessing import StandardScaler\n",
    "from sklearn.cluster import KMeans\n",
    "from sklearn.cluster import DBSCAN\n",
    "from sklearn.model_selection import train_test_split\n",
    "from sklearn.metrics import mean_squared_error, mean_absolute_error\n",
    "from sklearn.ensemble import RandomForestClassifier\n",
    "from sklearn.metrics import classification_report\n",
    "from sklearn.metrics import accuracy_score\n",
    "\n",
    "import numpy as np\n",
    "import pandas as pd\n",
    "\n",
    "import seaborn as sns\n",
    "import matplotlib.pyplot as plt\n",
    "import matplotlib\n",
    "\n",
    "import warnings\n",
    "warnings.filterwarnings(\"ignore\")"
   ]
  },
  {
   "cell_type": "code",
   "execution_count": 2,
   "id": "cc1ce875-e3df-438a-ab1f-b8db75649fb6",
   "metadata": {
    "tags": []
   },
   "outputs": [
    {
     "data": {
      "text/html": [
       "<div>\n",
       "<style scoped>\n",
       "    .dataframe tbody tr th:only-of-type {\n",
       "        vertical-align: middle;\n",
       "    }\n",
       "\n",
       "    .dataframe tbody tr th {\n",
       "        vertical-align: top;\n",
       "    }\n",
       "\n",
       "    .dataframe thead th {\n",
       "        text-align: right;\n",
       "    }\n",
       "</style>\n",
       "<table border=\"1\" class=\"dataframe\">\n",
       "  <thead>\n",
       "    <tr style=\"text-align: right;\">\n",
       "      <th></th>\n",
       "      <th>age</th>\n",
       "      <th>gender</th>\n",
       "      <th>height</th>\n",
       "      <th>weight</th>\n",
       "      <th>steps</th>\n",
       "      <th>hear_rate</th>\n",
       "      <th>calories</th>\n",
       "      <th>distance</th>\n",
       "      <th>entropy_heart</th>\n",
       "      <th>entropy_setps</th>\n",
       "      <th>...</th>\n",
       "      <th>intensity_karvonen</th>\n",
       "      <th>sd_norm_heart</th>\n",
       "      <th>steps_times_distance</th>\n",
       "      <th>device</th>\n",
       "      <th>activity</th>\n",
       "      <th>weight_pounds</th>\n",
       "      <th>height_inches</th>\n",
       "      <th>bmi</th>\n",
       "      <th>bmr</th>\n",
       "      <th>bmi category</th>\n",
       "    </tr>\n",
       "  </thead>\n",
       "  <tbody>\n",
       "    <tr>\n",
       "      <th>0</th>\n",
       "      <td>20</td>\n",
       "      <td>1</td>\n",
       "      <td>168.0</td>\n",
       "      <td>65.4</td>\n",
       "      <td>10.771429</td>\n",
       "      <td>78.531302</td>\n",
       "      <td>0.344533</td>\n",
       "      <td>0.008327</td>\n",
       "      <td>6.221612</td>\n",
       "      <td>6.116349</td>\n",
       "      <td>...</td>\n",
       "      <td>0.138520</td>\n",
       "      <td>1.000000</td>\n",
       "      <td>0.089692</td>\n",
       "      <td>apple watch</td>\n",
       "      <td>Lying</td>\n",
       "      <td>144.182148</td>\n",
       "      <td>66.141768</td>\n",
       "      <td>23.169423</td>\n",
       "      <td>1760.20753</td>\n",
       "      <td>Normal Weight</td>\n",
       "    </tr>\n",
       "    <tr>\n",
       "      <th>1</th>\n",
       "      <td>20</td>\n",
       "      <td>1</td>\n",
       "      <td>168.0</td>\n",
       "      <td>65.4</td>\n",
       "      <td>11.475325</td>\n",
       "      <td>78.453390</td>\n",
       "      <td>3.287625</td>\n",
       "      <td>0.008896</td>\n",
       "      <td>6.221612</td>\n",
       "      <td>6.116349</td>\n",
       "      <td>...</td>\n",
       "      <td>0.137967</td>\n",
       "      <td>1.000000</td>\n",
       "      <td>0.102088</td>\n",
       "      <td>apple watch</td>\n",
       "      <td>Lying</td>\n",
       "      <td>144.182148</td>\n",
       "      <td>66.141768</td>\n",
       "      <td>23.169423</td>\n",
       "      <td>1760.20753</td>\n",
       "      <td>Normal Weight</td>\n",
       "    </tr>\n",
       "    <tr>\n",
       "      <th>2</th>\n",
       "      <td>20</td>\n",
       "      <td>1</td>\n",
       "      <td>168.0</td>\n",
       "      <td>65.4</td>\n",
       "      <td>12.179221</td>\n",
       "      <td>78.540825</td>\n",
       "      <td>9.484000</td>\n",
       "      <td>0.009466</td>\n",
       "      <td>6.221612</td>\n",
       "      <td>6.116349</td>\n",
       "      <td>...</td>\n",
       "      <td>0.138587</td>\n",
       "      <td>1.000000</td>\n",
       "      <td>0.115287</td>\n",
       "      <td>apple watch</td>\n",
       "      <td>Lying</td>\n",
       "      <td>144.182148</td>\n",
       "      <td>66.141768</td>\n",
       "      <td>23.169423</td>\n",
       "      <td>1760.20753</td>\n",
       "      <td>Normal Weight</td>\n",
       "    </tr>\n",
       "    <tr>\n",
       "      <th>3</th>\n",
       "      <td>20</td>\n",
       "      <td>1</td>\n",
       "      <td>168.0</td>\n",
       "      <td>65.4</td>\n",
       "      <td>12.883117</td>\n",
       "      <td>78.628260</td>\n",
       "      <td>10.154556</td>\n",
       "      <td>0.010035</td>\n",
       "      <td>6.221612</td>\n",
       "      <td>6.116349</td>\n",
       "      <td>...</td>\n",
       "      <td>0.139208</td>\n",
       "      <td>1.000000</td>\n",
       "      <td>0.129286</td>\n",
       "      <td>apple watch</td>\n",
       "      <td>Lying</td>\n",
       "      <td>144.182148</td>\n",
       "      <td>66.141768</td>\n",
       "      <td>23.169423</td>\n",
       "      <td>1760.20753</td>\n",
       "      <td>Normal Weight</td>\n",
       "    </tr>\n",
       "    <tr>\n",
       "      <th>4</th>\n",
       "      <td>20</td>\n",
       "      <td>1</td>\n",
       "      <td>168.0</td>\n",
       "      <td>65.4</td>\n",
       "      <td>13.587013</td>\n",
       "      <td>78.715695</td>\n",
       "      <td>10.825111</td>\n",
       "      <td>0.010605</td>\n",
       "      <td>6.221612</td>\n",
       "      <td>6.116349</td>\n",
       "      <td>...</td>\n",
       "      <td>0.139828</td>\n",
       "      <td>0.241567</td>\n",
       "      <td>0.144088</td>\n",
       "      <td>apple watch</td>\n",
       "      <td>Lying</td>\n",
       "      <td>144.182148</td>\n",
       "      <td>66.141768</td>\n",
       "      <td>23.169423</td>\n",
       "      <td>1760.20753</td>\n",
       "      <td>Normal Weight</td>\n",
       "    </tr>\n",
       "  </tbody>\n",
       "</table>\n",
       "<p>5 rows × 23 columns</p>\n",
       "</div>"
      ],
      "text/plain": [
       "   age  gender  height  weight      steps  hear_rate   calories  distance  \\\n",
       "0   20       1   168.0    65.4  10.771429  78.531302   0.344533  0.008327   \n",
       "1   20       1   168.0    65.4  11.475325  78.453390   3.287625  0.008896   \n",
       "2   20       1   168.0    65.4  12.179221  78.540825   9.484000  0.009466   \n",
       "3   20       1   168.0    65.4  12.883117  78.628260  10.154556  0.010035   \n",
       "4   20       1   168.0    65.4  13.587013  78.715695  10.825111  0.010605   \n",
       "\n",
       "   entropy_heart  entropy_setps  ...  intensity_karvonen  sd_norm_heart  \\\n",
       "0       6.221612       6.116349  ...            0.138520       1.000000   \n",
       "1       6.221612       6.116349  ...            0.137967       1.000000   \n",
       "2       6.221612       6.116349  ...            0.138587       1.000000   \n",
       "3       6.221612       6.116349  ...            0.139208       1.000000   \n",
       "4       6.221612       6.116349  ...            0.139828       0.241567   \n",
       "\n",
       "   steps_times_distance       device  activity  weight_pounds height_inches  \\\n",
       "0              0.089692  apple watch     Lying     144.182148     66.141768   \n",
       "1              0.102088  apple watch     Lying     144.182148     66.141768   \n",
       "2              0.115287  apple watch     Lying     144.182148     66.141768   \n",
       "3              0.129286  apple watch     Lying     144.182148     66.141768   \n",
       "4              0.144088  apple watch     Lying     144.182148     66.141768   \n",
       "\n",
       "         bmi         bmr   bmi category  \n",
       "0  23.169423  1760.20753  Normal Weight  \n",
       "1  23.169423  1760.20753  Normal Weight  \n",
       "2  23.169423  1760.20753  Normal Weight  \n",
       "3  23.169423  1760.20753  Normal Weight  \n",
       "4  23.169423  1760.20753  Normal Weight  \n",
       "\n",
       "[5 rows x 23 columns]"
      ]
     },
     "execution_count": 2,
     "metadata": {},
     "output_type": "execute_result"
    }
   ],
   "source": [
    "first = pd.read_csv('../data/first_df.csv')\n",
    "\n",
    "first.head()"
   ]
  },
  {
   "cell_type": "code",
   "execution_count": 3,
   "id": "49160667-b9ac-4587-acb2-78a6e21e571b",
   "metadata": {
    "tags": []
   },
   "outputs": [
    {
     "data": {
      "text/html": [
       "<div>\n",
       "<style scoped>\n",
       "    .dataframe tbody tr th:only-of-type {\n",
       "        vertical-align: middle;\n",
       "    }\n",
       "\n",
       "    .dataframe tbody tr th {\n",
       "        vertical-align: top;\n",
       "    }\n",
       "\n",
       "    .dataframe thead th {\n",
       "        text-align: right;\n",
       "    }\n",
       "</style>\n",
       "<table border=\"1\" class=\"dataframe\">\n",
       "  <thead>\n",
       "    <tr style=\"text-align: right;\">\n",
       "      <th></th>\n",
       "      <th>bmi</th>\n",
       "      <th>bmr</th>\n",
       "    </tr>\n",
       "  </thead>\n",
       "  <tbody>\n",
       "    <tr>\n",
       "      <th>0</th>\n",
       "      <td>23.169423</td>\n",
       "      <td>1760.20753</td>\n",
       "    </tr>\n",
       "    <tr>\n",
       "      <th>1</th>\n",
       "      <td>23.169423</td>\n",
       "      <td>1760.20753</td>\n",
       "    </tr>\n",
       "    <tr>\n",
       "      <th>2</th>\n",
       "      <td>23.169423</td>\n",
       "      <td>1760.20753</td>\n",
       "    </tr>\n",
       "    <tr>\n",
       "      <th>3</th>\n",
       "      <td>23.169423</td>\n",
       "      <td>1760.20753</td>\n",
       "    </tr>\n",
       "    <tr>\n",
       "      <th>4</th>\n",
       "      <td>23.169423</td>\n",
       "      <td>1760.20753</td>\n",
       "    </tr>\n",
       "  </tbody>\n",
       "</table>\n",
       "</div>"
      ],
      "text/plain": [
       "         bmi         bmr\n",
       "0  23.169423  1760.20753\n",
       "1  23.169423  1760.20753\n",
       "2  23.169423  1760.20753\n",
       "3  23.169423  1760.20753\n",
       "4  23.169423  1760.20753"
      ]
     },
     "execution_count": 3,
     "metadata": {},
     "output_type": "execute_result"
    }
   ],
   "source": [
    "# creating new dataframe that only contain 'bmi' and 'bmr'\n",
    "\n",
    "quad = pd.DataFrame(first, columns = ['bmi', 'bmr'])\n",
    "quad.head()"
   ]
  },
  {
   "cell_type": "code",
   "execution_count": 4,
   "id": "d529ba57-1fbd-46f1-96c9-9056ccc3bd41",
   "metadata": {
    "tags": []
   },
   "outputs": [
    {
     "data": {
      "image/png": "[encoded data removed]",
      "text/plain": [
       "<Figure size 1200x600 with 1 Axes>"
      ]
     },
     "metadata": {},
     "output_type": "display_data"
    }
   ],
   "source": [
    "# initial scatter plot without clusters\n",
    "\n",
    "quad.plot(kind = 'scatter', x = 'bmi', y = 'bmr', figsize=(12,6), s=50)\n",
    "plt.xlabel(\"$BMI$\", fontsize=18)\n",
    "plt.ylabel(\"$BMR$\", fontsize=18);"
   ]
  },
  {
   "cell_type": "code",
   "execution_count": 5,
   "id": "8bd100b5-c409-44f9-a946-a977bcc7940b",
   "metadata": {
    "tags": []
   },
   "outputs": [],
   "source": [
    "# Define X\n",
    "X = quad[['bmi', 'bmr']]"
   ]
  },
  {
   "cell_type": "code",
   "execution_count": 6,
   "id": "835cc3ab-5abb-43ef-b464-b16364a82755",
   "metadata": {
    "tags": []
   },
   "outputs": [],
   "source": [
    "# Scale the data\n",
    "sc = StandardScaler()\n",
    "\n",
    "X_scaled = sc.fit_transform(X)"
   ]
  },
  {
   "cell_type": "code",
   "execution_count": 7,
   "id": "ebd1d1ad-dd5f-4136-91bf-ded8335668b2",
   "metadata": {
    "tags": []
   },
   "outputs": [
    {
     "data": {
      "text/html": [
       "<style>#sk-container-id-1 {color: black;background-color: white;}#sk-container-id-1 pre{padding: 0;}#sk-container-id-1 div.sk-toggleable {background-color: white;}#sk-container-id-1 label.sk-toggleable__label {cursor: pointer;display: block;width: 100%;margin-bottom: 0;padding: 0.3em;box-sizing: border-box;text-align: center;}#sk-container-id-1 label.sk-toggleable__label-arrow:before {content: \"▸\";float: left;margin-right: 0.25em;color: #696969;}#sk-container-id-1 label.sk-toggleable__label-arrow:hover:before {color: black;}#sk-container-id-1 div.sk-estimator:hover label.sk-toggleable__label-arrow:before {color: black;}#sk-container-id-1 div.sk-toggleable__content {max-height: 0;max-width: 0;overflow: hidden;text-align: left;background-color: #f0f8ff;}#sk-container-id-1 div.sk-toggleable__content pre {margin: 0.2em;color: black;border-radius: 0.25em;background-color: #f0f8ff;}#sk-container-id-1 input.sk-toggleable__control:checked~div.sk-toggleable__content {max-height: 200px;max-width: 100%;overflow: auto;}#sk-container-id-1 input.sk-toggleable__control:checked~label.sk-toggleable__label-arrow:before {content: \"▾\";}#sk-container-id-1 div.sk-estimator input.sk-toggleable__control:checked~label.sk-toggleable__label {background-color: #d4ebff;}#sk-container-id-1 div.sk-label input.sk-toggleable__control:checked~label.sk-toggleable__label {background-color: #d4ebff;}#sk-container-id-1 input.sk-hidden--visually {border: 0;clip: rect(1px 1px 1px 1px);clip: rect(1px, 1px, 1px, 1px);height: 1px;margin: -1px;overflow: hidden;padding: 0;position: absolute;width: 1px;}#sk-container-id-1 div.sk-estimator {font-family: monospace;background-color: #f0f8ff;border: 1px dotted black;border-radius: 0.25em;box-sizing: border-box;margin-bottom: 0.5em;}#sk-container-id-1 div.sk-estimator:hover {background-color: #d4ebff;}#sk-container-id-1 div.sk-parallel-item::after {content: \"\";width: 100%;border-bottom: 1px solid gray;flex-grow: 1;}#sk-container-id-1 div.sk-label:hover label.sk-toggleable__label {background-color: #d4ebff;}#sk-container-id-1 div.sk-serial::before {content: \"\";position: absolute;border-left: 1px solid gray;box-sizing: border-box;top: 0;bottom: 0;left: 50%;z-index: 0;}#sk-container-id-1 div.sk-serial {display: flex;flex-direction: column;align-items: center;background-color: white;padding-right: 0.2em;padding-left: 0.2em;position: relative;}#sk-container-id-1 div.sk-item {position: relative;z-index: 1;}#sk-container-id-1 div.sk-parallel {display: flex;align-items: stretch;justify-content: center;background-color: white;position: relative;}#sk-container-id-1 div.sk-item::before, #sk-container-id-1 div.sk-parallel-item::before {content: \"\";position: absolute;border-left: 1px solid gray;box-sizing: border-box;top: 0;bottom: 0;left: 50%;z-index: -1;}#sk-container-id-1 div.sk-parallel-item {display: flex;flex-direction: column;z-index: 1;position: relative;background-color: white;}#sk-container-id-1 div.sk-parallel-item:first-child::after {align-self: flex-end;width: 50%;}#sk-container-id-1 div.sk-parallel-item:last-child::after {align-self: flex-start;width: 50%;}#sk-container-id-1 div.sk-parallel-item:only-child::after {width: 0;}#sk-container-id-1 div.sk-dashed-wrapped {border: 1px dashed gray;margin: 0 0.4em 0.5em 0.4em;box-sizing: border-box;padding-bottom: 0.4em;background-color: white;}#sk-container-id-1 div.sk-label label {font-family: monospace;font-weight: bold;display: inline-block;line-height: 1.2em;}#sk-container-id-1 div.sk-label-container {text-align: center;}#sk-container-id-1 div.sk-container {/* jupyter's `normalize.less` sets `[hidden] { display: none; }` but bootstrap.min.css set `[hidden] { display: none !important; }` so we also need the `!important` here to be able to override the default hidden behavior on the sphinx rendered scikit-learn.org. See: https://github.com/scikit-learn/scikit-learn/issues/21755 */display: inline-block !important;position: relative;}#sk-container-id-1 div.sk-text-repr-fallback {display: none;}</style><div id=\"sk-container-id-1\" class=\"sk-top-container\"><div class=\"sk-text-repr-fallback\"><pre>KMeans(n_clusters=4, random_state=42)</pre><b>In a Jupyter environment, please rerun this cell to show the HTML representation or trust the notebook. <br />On GitHub, the HTML representation is unable to render, please try loading this page with nbviewer.org.</b></div><div class=\"sk-container\" hidden><div class=\"sk-item\"><div class=\"sk-estimator sk-toggleable\"><input class=\"sk-toggleable__control sk-hidden--visually\" id=\"sk-estimator-id-1\" type=\"checkbox\" checked><label for=\"sk-estimator-id-1\" class=\"sk-toggleable__label sk-toggleable__label-arrow\">KMeans</label><div class=\"sk-toggleable__content\"><pre>KMeans(n_clusters=4, random_state=42)</pre></div></div></div></div></div>"
      ],
      "text/plain": [
       "KMeans(n_clusters=4, random_state=42)"
      ]
     },
     "execution_count": 7,
     "metadata": {},
     "output_type": "execute_result"
    }
   ],
   "source": [
    "# instantiating and setting number of clusters to four because we have four weight classes\n",
    "\n",
    "km = KMeans(n_clusters=4, random_state=42)\n",
    "\n",
    "km.fit(X_scaled)"
   ]
  },
  {
   "cell_type": "code",
   "execution_count": 8,
   "id": "705aa0ad-08e0-4500-ba86-859a788e6ffb",
   "metadata": {
    "tags": []
   },
   "outputs": [
    {
     "data": {
      "text/plain": [
       "array([1, 1, 1, ..., 2, 2, 2], dtype=int32)"
      ]
     },
     "execution_count": 8,
     "metadata": {},
     "output_type": "execute_result"
    }
   ],
   "source": [
    "km.labels_"
   ]
  },
  {
   "cell_type": "code",
   "execution_count": 9,
   "id": "93089fb3-42e6-4177-a826-f1b56ccec02f",
   "metadata": {
    "tags": []
   },
   "outputs": [
    {
     "data": {
      "text/plain": [
       "array([1, 1, 1, ..., 2, 2, 2], dtype=int32)"
      ]
     },
     "execution_count": 9,
     "metadata": {},
     "output_type": "execute_result"
    }
   ],
   "source": [
    "km.predict(X_scaled)"
   ]
  },
  {
   "cell_type": "code",
   "execution_count": 10,
   "id": "4070b188-33c3-4b8f-931c-f4c5af693611",
   "metadata": {
    "tags": []
   },
   "outputs": [
    {
     "data": {
      "text/html": [
       "<div>\n",
       "<style scoped>\n",
       "    .dataframe tbody tr th:only-of-type {\n",
       "        vertical-align: middle;\n",
       "    }\n",
       "\n",
       "    .dataframe tbody tr th {\n",
       "        vertical-align: top;\n",
       "    }\n",
       "\n",
       "    .dataframe thead th {\n",
       "        text-align: right;\n",
       "    }\n",
       "</style>\n",
       "<table border=\"1\" class=\"dataframe\">\n",
       "  <thead>\n",
       "    <tr style=\"text-align: right;\">\n",
       "      <th></th>\n",
       "      <th>bmi</th>\n",
       "      <th>bmr</th>\n",
       "      <th>cluster</th>\n",
       "    </tr>\n",
       "  </thead>\n",
       "  <tbody>\n",
       "    <tr>\n",
       "      <th>6259</th>\n",
       "      <td>28.780155</td>\n",
       "      <td>1570.648102</td>\n",
       "      <td>2</td>\n",
       "    </tr>\n",
       "    <tr>\n",
       "      <th>6260</th>\n",
       "      <td>28.780155</td>\n",
       "      <td>1570.648102</td>\n",
       "      <td>2</td>\n",
       "    </tr>\n",
       "    <tr>\n",
       "      <th>6261</th>\n",
       "      <td>28.780155</td>\n",
       "      <td>1570.648102</td>\n",
       "      <td>2</td>\n",
       "    </tr>\n",
       "    <tr>\n",
       "      <th>6262</th>\n",
       "      <td>28.780155</td>\n",
       "      <td>1570.648102</td>\n",
       "      <td>2</td>\n",
       "    </tr>\n",
       "    <tr>\n",
       "      <th>6263</th>\n",
       "      <td>28.780155</td>\n",
       "      <td>1570.648102</td>\n",
       "      <td>2</td>\n",
       "    </tr>\n",
       "  </tbody>\n",
       "</table>\n",
       "</div>"
      ],
      "text/plain": [
       "            bmi          bmr  cluster\n",
       "6259  28.780155  1570.648102        2\n",
       "6260  28.780155  1570.648102        2\n",
       "6261  28.780155  1570.648102        2\n",
       "6262  28.780155  1570.648102        2\n",
       "6263  28.780155  1570.648102        2"
      ]
     },
     "execution_count": 10,
     "metadata": {},
     "output_type": "execute_result"
    }
   ],
   "source": [
    "quad['cluster'] = km.labels_\n",
    "\n",
    "quad.tail()"
   ]
  },
  {
   "cell_type": "markdown",
   "id": "5e0a450b-62bc-492a-8d07-14dee9311841",
   "metadata": {},
   "source": [
    "## Centroids"
   ]
  },
  {
   "cell_type": "code",
   "execution_count": 11,
   "id": "1401d4cb-d2b9-4c52-86b0-dfb6c288701d",
   "metadata": {
    "tags": []
   },
   "outputs": [],
   "source": [
    "quad['cluster'] = km.labels_"
   ]
  },
  {
   "cell_type": "code",
   "execution_count": 12,
   "id": "3bd0a3aa-f9d1-4e05-9530-59704df982e0",
   "metadata": {
    "tags": []
   },
   "outputs": [
    {
     "data": {
      "text/html": [
       "<div>\n",
       "<style scoped>\n",
       "    .dataframe tbody tr th:only-of-type {\n",
       "        vertical-align: middle;\n",
       "    }\n",
       "\n",
       "    .dataframe tbody tr th {\n",
       "        vertical-align: top;\n",
       "    }\n",
       "\n",
       "    .dataframe thead th {\n",
       "        text-align: right;\n",
       "    }\n",
       "</style>\n",
       "<table border=\"1\" class=\"dataframe\">\n",
       "  <thead>\n",
       "    <tr style=\"text-align: right;\">\n",
       "      <th></th>\n",
       "      <th>bmi</th>\n",
       "      <th>bmr</th>\n",
       "    </tr>\n",
       "    <tr>\n",
       "      <th>cluster</th>\n",
       "      <th></th>\n",
       "      <th></th>\n",
       "    </tr>\n",
       "  </thead>\n",
       "  <tbody>\n",
       "    <tr>\n",
       "      <th>0</th>\n",
       "      <td>23.166018</td>\n",
       "      <td>1396.529216</td>\n",
       "    </tr>\n",
       "    <tr>\n",
       "      <th>1</th>\n",
       "      <td>23.463525</td>\n",
       "      <td>1964.499174</td>\n",
       "    </tr>\n",
       "    <tr>\n",
       "      <th>2</th>\n",
       "      <td>28.966493</td>\n",
       "      <td>2121.273153</td>\n",
       "    </tr>\n",
       "    <tr>\n",
       "      <th>3</th>\n",
       "      <td>19.053985</td>\n",
       "      <td>1451.032509</td>\n",
       "    </tr>\n",
       "  </tbody>\n",
       "</table>\n",
       "</div>"
      ],
      "text/plain": [
       "               bmi          bmr\n",
       "cluster                        \n",
       "0        23.166018  1396.529216\n",
       "1        23.463525  1964.499174\n",
       "2        28.966493  2121.273153\n",
       "3        19.053985  1451.032509"
      ]
     },
     "execution_count": 12,
     "metadata": {},
     "output_type": "execute_result"
    }
   ],
   "source": [
    "# finding the centroids of each cluster\n",
    "\n",
    "quad.groupby('cluster').mean()"
   ]
  },
  {
   "cell_type": "code",
   "execution_count": 13,
   "id": "3f0b4746-c20a-4a8b-8c23-f835515d7ff8",
   "metadata": {
    "tags": []
   },
   "outputs": [
    {
     "data": {
      "text/plain": [
       "array([[-0.26707978, -0.85732349],\n",
       "       [-0.17613257,  0.62674112],\n",
       "       [ 1.50611263,  1.03638023],\n",
       "       [-1.52411911, -0.71491031]])"
      ]
     },
     "execution_count": 13,
     "metadata": {},
     "output_type": "execute_result"
    }
   ],
   "source": [
    "km.cluster_centers_"
   ]
  },
  {
   "cell_type": "code",
   "execution_count": 14,
   "id": "3f36c93b-c70f-49bc-917c-97e24304f54d",
   "metadata": {
    "tags": []
   },
   "outputs": [],
   "source": [
    "centroids = sc.inverse_transform(km.cluster_centers_)"
   ]
  },
  {
   "cell_type": "code",
   "execution_count": 15,
   "id": "5ed60998-ebf9-4ac3-b70d-dfd0b0606bf7",
   "metadata": {
    "tags": []
   },
   "outputs": [],
   "source": [
    "centroids = pd.DataFrame(centroids,\n",
    "                        columns = ['bmi', 'bmr'])"
   ]
  },
  {
   "cell_type": "code",
   "execution_count": 16,
   "id": "8b241d61-c0b9-40f5-9e54-6ec6fdc7eabf",
   "metadata": {
    "tags": []
   },
   "outputs": [
    {
     "data": {
      "image/png": "[encoded data removed]",
      "text/plain": [
       "<Figure size 1000x600 with 1 Axes>"
      ]
     },
     "metadata": {},
     "output_type": "display_data"
    }
   ],
   "source": [
    "# Scatter plot with centroids and assigned clusters\n",
    "plt.figure(figsize=(10, 6))\n",
    "sns.scatterplot(x='bmi', y='bmr', data=quad, hue='cluster', palette='Set1', s=70)\n",
    "\n",
    "# Plot centroids\n",
    "sns.scatterplot(x='bmi', y='bmr', data=centroids, color='black', marker='*', s=200, label='Centroids')\n",
    "\n",
    "plt.title('Clustered Data with Centroids')\n",
    "plt.xlabel('BMI')\n",
    "plt.ylabel('BMR')\n",
    "plt.legend()\n",
    "plt.show()\n"
   ]
  },
  {
   "cell_type": "markdown",
   "id": "4f0b1799-22f8-48aa-97a9-81299dadfe93",
   "metadata": {},
   "source": [
    "***Above graph shows purple being our underweight category, with red being normal, blue being overweight, and green being obese. It looks like the clusters were not fully separated, giving us different values than the original dataset assigned.***"
   ]
  },
  {
   "cell_type": "code",
   "execution_count": 17,
   "id": "b1fa5731-76cf-4e23-9c7b-5fe4c776f462",
   "metadata": {
    "tags": []
   },
   "outputs": [
    {
     "data": {
      "text/plain": [
       "3075.4620037320933"
      ]
     },
     "execution_count": 17,
     "metadata": {},
     "output_type": "execute_result"
    }
   ],
   "source": [
    "#These are NOT dense clusters. Remember lower is better!\n",
    "km.inertia_"
   ]
  },
  {
   "cell_type": "code",
   "execution_count": 18,
   "id": "6045f1ab-ac2f-4f6b-a37f-623df9dfd1a2",
   "metadata": {
    "tags": []
   },
   "outputs": [
    {
     "data": {
      "text/plain": [
       "0.45855163623285855"
      ]
     },
     "execution_count": 18,
     "metadata": {},
     "output_type": "execute_result"
    }
   ],
   "source": [
    "# Not a high silhoutte score either so the points within the clusters aren't even near eachother.\n",
    "silhouette_score(X_scaled, km.labels_)"
   ]
  },
  {
   "cell_type": "markdown",
   "id": "b5cb84fb-614f-492c-af01-6fd878bdf53e",
   "metadata": {},
   "source": [
    "## Elbow Plot"
   ]
  },
  {
   "cell_type": "code",
   "execution_count": 19,
   "id": "7f0c351c-1126-4272-8952-e1fe85a990f2",
   "metadata": {
    "tags": []
   },
   "outputs": [
    {
     "data": {
      "text/plain": [
       "[12527.999999999976,\n",
       " 5965.662390017391,\n",
       " 3802.4747805730976,\n",
       " 3075.4620037320933,\n",
       " 2473.8678531176893,\n",
       " 1974.2277905561564,\n",
       " 1515.0105013896348,\n",
       " 1275.991301244205,\n",
       " 1043.08918386145]"
      ]
     },
     "execution_count": 19,
     "metadata": {},
     "output_type": "execute_result"
    }
   ],
   "source": [
    "# creating a for loop to find the best k value\n",
    "\n",
    "inertia_list = []\n",
    "\n",
    "for k in range(1, 10):\n",
    "    kmeans = KMeans(n_clusters=k, random_state=42)\n",
    "    kmeans.fit(X_scaled)\n",
    "    inertia_list.append(kmeans.inertia_)\n",
    "    \n",
    "inertia_list"
   ]
  },
  {
   "cell_type": "code",
   "execution_count": 20,
   "id": "4033f4d9-516f-4839-bd89-934cd96fccf6",
   "metadata": {
    "tags": []
   },
   "outputs": [
    {
     "data": {
      "image/png": "[encoded data removed]",
      "text/plain": [
       "<Figure size 640x480 with 1 Axes>"
      ]
     },
     "metadata": {},
     "output_type": "display_data"
    }
   ],
   "source": [
    "plt.plot(range(1, 10), inertia_list, marker = 'o')\n",
    "plt.xlabel('# of clusters')\n",
    "plt.ylabel('Score')\n",
    "plt.title('Intertia Scores');"
   ]
  },
  {
   "cell_type": "markdown",
   "id": "d1850145-c87b-4b7e-aab9-8e4157ef3e6c",
   "metadata": {},
   "source": [
    "***Above graph shows us that 3 would be the best value for K cluster wise.***"
   ]
  },
  {
   "cell_type": "markdown",
   "id": "7eab07b4-8c23-4348-8b03-7edb2677560e",
   "metadata": {},
   "source": [
    "## Finding Best K With Silhouette Graph."
   ]
  },
  {
   "cell_type": "code",
   "execution_count": 21,
   "id": "6026604c-20c1-476d-ab75-4d94d4a67a6d",
   "metadata": {
    "tags": []
   },
   "outputs": [
    {
     "data": {
      "text/plain": [
       "[0.47166110686879464,\n",
       " 0.45478923715975855,\n",
       " 0.45855163623285855,\n",
       " 0.4662963889402856,\n",
       " 0.47752974379932783,\n",
       " 0.5018552312623038,\n",
       " 0.5109010087866199,\n",
       " 0.5152451791023601,\n",
       " 0.5316092839155486]"
      ]
     },
     "execution_count": 21,
     "metadata": {},
     "output_type": "execute_result"
    }
   ],
   "source": [
    "# creating a for loop to find the best k value\n",
    "\n",
    "silhouette_list = []\n",
    "\n",
    "for k in range(2, 11):\n",
    "    kmeans = KMeans(n_clusters=k, random_state = 42)\n",
    "    kmeans.fit(X_scaled)\n",
    "    silhouette_list.append(silhouette_score(X_scaled, kmeans.labels_))\n",
    "    \n",
    "silhouette_list"
   ]
  },
  {
   "cell_type": "code",
   "execution_count": 22,
   "id": "6b9044bf-66c1-4452-b448-71f0a8c80aa7",
   "metadata": {
    "tags": []
   },
   "outputs": [
    {
     "data": {
      "image/png": "[encoded data removed]",
      "text/plain": [
       "<Figure size 640x480 with 1 Axes>"
      ]
     },
     "metadata": {},
     "output_type": "display_data"
    }
   ],
   "source": [
    "plt.plot(range(2, 11), silhouette_list, marker = 'o', color = 'blue')\n",
    "plt.xlabel('# of clusters')\n",
    "plt.ylabel('silhouette score')\n",
    "plt.title('Silhouette Scores');"
   ]
  },
  {
   "cell_type": "markdown",
   "id": "679c818e-e7c3-4fbe-b0af-4e8f3ff58259",
   "metadata": {},
   "source": [
    "***Above graph confirms best value of K is 3.***"
   ]
  },
  {
   "cell_type": "markdown",
   "id": "48633e34-6593-4580-830b-5a8558abbbe4",
   "metadata": {},
   "source": [
    "## DBSCAN"
   ]
  },
  {
   "cell_type": "code",
   "execution_count": 23,
   "id": "d22b32d4-020a-4e7c-b405-0ff489b6be50",
   "metadata": {
    "tags": []
   },
   "outputs": [
    {
     "data": {
      "text/html": [
       "<div>\n",
       "<style scoped>\n",
       "    .dataframe tbody tr th:only-of-type {\n",
       "        vertical-align: middle;\n",
       "    }\n",
       "\n",
       "    .dataframe tbody tr th {\n",
       "        vertical-align: top;\n",
       "    }\n",
       "\n",
       "    .dataframe thead th {\n",
       "        text-align: right;\n",
       "    }\n",
       "</style>\n",
       "<table border=\"1\" class=\"dataframe\">\n",
       "  <thead>\n",
       "    <tr style=\"text-align: right;\">\n",
       "      <th></th>\n",
       "      <th>age</th>\n",
       "      <th>gender</th>\n",
       "      <th>height</th>\n",
       "      <th>weight</th>\n",
       "      <th>steps</th>\n",
       "      <th>hear_rate</th>\n",
       "      <th>calories</th>\n",
       "      <th>distance</th>\n",
       "      <th>entropy_heart</th>\n",
       "      <th>entropy_setps</th>\n",
       "      <th>...</th>\n",
       "      <th>intensity_karvonen</th>\n",
       "      <th>sd_norm_heart</th>\n",
       "      <th>steps_times_distance</th>\n",
       "      <th>device</th>\n",
       "      <th>activity</th>\n",
       "      <th>weight_pounds</th>\n",
       "      <th>height_inches</th>\n",
       "      <th>bmi</th>\n",
       "      <th>bmr</th>\n",
       "      <th>bmi category</th>\n",
       "    </tr>\n",
       "  </thead>\n",
       "  <tbody>\n",
       "    <tr>\n",
       "      <th>0</th>\n",
       "      <td>20</td>\n",
       "      <td>1</td>\n",
       "      <td>168.0</td>\n",
       "      <td>65.4</td>\n",
       "      <td>10.771429</td>\n",
       "      <td>78.531302</td>\n",
       "      <td>0.344533</td>\n",
       "      <td>0.008327</td>\n",
       "      <td>6.221612</td>\n",
       "      <td>6.116349</td>\n",
       "      <td>...</td>\n",
       "      <td>0.138520</td>\n",
       "      <td>1.000000</td>\n",
       "      <td>0.089692</td>\n",
       "      <td>apple watch</td>\n",
       "      <td>Lying</td>\n",
       "      <td>144.182148</td>\n",
       "      <td>66.141768</td>\n",
       "      <td>23.169423</td>\n",
       "      <td>1760.20753</td>\n",
       "      <td>Normal Weight</td>\n",
       "    </tr>\n",
       "    <tr>\n",
       "      <th>1</th>\n",
       "      <td>20</td>\n",
       "      <td>1</td>\n",
       "      <td>168.0</td>\n",
       "      <td>65.4</td>\n",
       "      <td>11.475325</td>\n",
       "      <td>78.453390</td>\n",
       "      <td>3.287625</td>\n",
       "      <td>0.008896</td>\n",
       "      <td>6.221612</td>\n",
       "      <td>6.116349</td>\n",
       "      <td>...</td>\n",
       "      <td>0.137967</td>\n",
       "      <td>1.000000</td>\n",
       "      <td>0.102088</td>\n",
       "      <td>apple watch</td>\n",
       "      <td>Lying</td>\n",
       "      <td>144.182148</td>\n",
       "      <td>66.141768</td>\n",
       "      <td>23.169423</td>\n",
       "      <td>1760.20753</td>\n",
       "      <td>Normal Weight</td>\n",
       "    </tr>\n",
       "    <tr>\n",
       "      <th>2</th>\n",
       "      <td>20</td>\n",
       "      <td>1</td>\n",
       "      <td>168.0</td>\n",
       "      <td>65.4</td>\n",
       "      <td>12.179221</td>\n",
       "      <td>78.540825</td>\n",
       "      <td>9.484000</td>\n",
       "      <td>0.009466</td>\n",
       "      <td>6.221612</td>\n",
       "      <td>6.116349</td>\n",
       "      <td>...</td>\n",
       "      <td>0.138587</td>\n",
       "      <td>1.000000</td>\n",
       "      <td>0.115287</td>\n",
       "      <td>apple watch</td>\n",
       "      <td>Lying</td>\n",
       "      <td>144.182148</td>\n",
       "      <td>66.141768</td>\n",
       "      <td>23.169423</td>\n",
       "      <td>1760.20753</td>\n",
       "      <td>Normal Weight</td>\n",
       "    </tr>\n",
       "    <tr>\n",
       "      <th>3</th>\n",
       "      <td>20</td>\n",
       "      <td>1</td>\n",
       "      <td>168.0</td>\n",
       "      <td>65.4</td>\n",
       "      <td>12.883117</td>\n",
       "      <td>78.628260</td>\n",
       "      <td>10.154556</td>\n",
       "      <td>0.010035</td>\n",
       "      <td>6.221612</td>\n",
       "      <td>6.116349</td>\n",
       "      <td>...</td>\n",
       "      <td>0.139208</td>\n",
       "      <td>1.000000</td>\n",
       "      <td>0.129286</td>\n",
       "      <td>apple watch</td>\n",
       "      <td>Lying</td>\n",
       "      <td>144.182148</td>\n",
       "      <td>66.141768</td>\n",
       "      <td>23.169423</td>\n",
       "      <td>1760.20753</td>\n",
       "      <td>Normal Weight</td>\n",
       "    </tr>\n",
       "    <tr>\n",
       "      <th>4</th>\n",
       "      <td>20</td>\n",
       "      <td>1</td>\n",
       "      <td>168.0</td>\n",
       "      <td>65.4</td>\n",
       "      <td>13.587013</td>\n",
       "      <td>78.715695</td>\n",
       "      <td>10.825111</td>\n",
       "      <td>0.010605</td>\n",
       "      <td>6.221612</td>\n",
       "      <td>6.116349</td>\n",
       "      <td>...</td>\n",
       "      <td>0.139828</td>\n",
       "      <td>0.241567</td>\n",
       "      <td>0.144088</td>\n",
       "      <td>apple watch</td>\n",
       "      <td>Lying</td>\n",
       "      <td>144.182148</td>\n",
       "      <td>66.141768</td>\n",
       "      <td>23.169423</td>\n",
       "      <td>1760.20753</td>\n",
       "      <td>Normal Weight</td>\n",
       "    </tr>\n",
       "  </tbody>\n",
       "</table>\n",
       "<p>5 rows × 23 columns</p>\n",
       "</div>"
      ],
      "text/plain": [
       "   age  gender  height  weight      steps  hear_rate   calories  distance  \\\n",
       "0   20       1   168.0    65.4  10.771429  78.531302   0.344533  0.008327   \n",
       "1   20       1   168.0    65.4  11.475325  78.453390   3.287625  0.008896   \n",
       "2   20       1   168.0    65.4  12.179221  78.540825   9.484000  0.009466   \n",
       "3   20       1   168.0    65.4  12.883117  78.628260  10.154556  0.010035   \n",
       "4   20       1   168.0    65.4  13.587013  78.715695  10.825111  0.010605   \n",
       "\n",
       "   entropy_heart  entropy_setps  ...  intensity_karvonen  sd_norm_heart  \\\n",
       "0       6.221612       6.116349  ...            0.138520       1.000000   \n",
       "1       6.221612       6.116349  ...            0.137967       1.000000   \n",
       "2       6.221612       6.116349  ...            0.138587       1.000000   \n",
       "3       6.221612       6.116349  ...            0.139208       1.000000   \n",
       "4       6.221612       6.116349  ...            0.139828       0.241567   \n",
       "\n",
       "   steps_times_distance       device  activity  weight_pounds height_inches  \\\n",
       "0              0.089692  apple watch     Lying     144.182148     66.141768   \n",
       "1              0.102088  apple watch     Lying     144.182148     66.141768   \n",
       "2              0.115287  apple watch     Lying     144.182148     66.141768   \n",
       "3              0.129286  apple watch     Lying     144.182148     66.141768   \n",
       "4              0.144088  apple watch     Lying     144.182148     66.141768   \n",
       "\n",
       "         bmi         bmr   bmi category  \n",
       "0  23.169423  1760.20753  Normal Weight  \n",
       "1  23.169423  1760.20753  Normal Weight  \n",
       "2  23.169423  1760.20753  Normal Weight  \n",
       "3  23.169423  1760.20753  Normal Weight  \n",
       "4  23.169423  1760.20753  Normal Weight  \n",
       "\n",
       "[5 rows x 23 columns]"
      ]
     },
     "execution_count": 23,
     "metadata": {},
     "output_type": "execute_result"
    }
   ],
   "source": [
    "first.head()"
   ]
  },
  {
   "cell_type": "code",
   "execution_count": 24,
   "id": "a600f36c-42b5-4e17-8bc2-7b21ae3322c2",
   "metadata": {
    "tags": []
   },
   "outputs": [],
   "source": [
    "scan = pd.DataFrame(first, columns = ['bmi', 'bmr'])"
   ]
  },
  {
   "cell_type": "code",
   "execution_count": 25,
   "id": "1ce55a39-5bc1-4f2b-88bb-fecf8618d276",
   "metadata": {
    "tags": []
   },
   "outputs": [],
   "source": [
    "ss = StandardScaler()\n",
    "\n",
    "X_scaled = ss.fit_transform(scan)"
   ]
  },
  {
   "cell_type": "code",
   "execution_count": 26,
   "id": "1695713d-03d3-45f2-9d6c-bf7b63749c04",
   "metadata": {
    "tags": []
   },
   "outputs": [],
   "source": [
    "dbscan = DBSCAN()\n",
    "\n",
    "dbscan.fit(X_scaled);"
   ]
  },
  {
   "cell_type": "code",
   "execution_count": 27,
   "id": "1821ff35-a93d-4bce-9a48-fac4ac3a9c4f",
   "metadata": {
    "tags": []
   },
   "outputs": [
    {
     "data": {
      "text/plain": [
       "array([0, 0, 0, ..., 4, 4, 4])"
      ]
     },
     "execution_count": 27,
     "metadata": {},
     "output_type": "execute_result"
    }
   ],
   "source": [
    "dbscan.labels_"
   ]
  },
  {
   "cell_type": "code",
   "execution_count": 28,
   "id": "fe6741cc-033f-4880-83fa-ced27fd9488f",
   "metadata": {
    "tags": []
   },
   "outputs": [
    {
     "data": {
      "text/plain": [
       "0.22317957724637139"
      ]
     },
     "execution_count": 28,
     "metadata": {},
     "output_type": "execute_result"
    }
   ],
   "source": [
    "#This is going to be even worse.\n",
    "silhouette_score(X_scaled, dbscan.labels_)"
   ]
  },
  {
   "cell_type": "code",
   "execution_count": 29,
   "id": "ab201216-714b-49d1-8942-9d307feb8c7b",
   "metadata": {
    "tags": []
   },
   "outputs": [
    {
     "data": {
      "text/html": [
       "<div>\n",
       "<style scoped>\n",
       "    .dataframe tbody tr th:only-of-type {\n",
       "        vertical-align: middle;\n",
       "    }\n",
       "\n",
       "    .dataframe tbody tr th {\n",
       "        vertical-align: top;\n",
       "    }\n",
       "\n",
       "    .dataframe thead th {\n",
       "        text-align: right;\n",
       "    }\n",
       "</style>\n",
       "<table border=\"1\" class=\"dataframe\">\n",
       "  <thead>\n",
       "    <tr style=\"text-align: right;\">\n",
       "      <th></th>\n",
       "      <th>bmi</th>\n",
       "      <th>bmr</th>\n",
       "      <th>cluster</th>\n",
       "    </tr>\n",
       "  </thead>\n",
       "  <tbody>\n",
       "    <tr>\n",
       "      <th>0</th>\n",
       "      <td>23.169423</td>\n",
       "      <td>1760.20753</td>\n",
       "      <td>0</td>\n",
       "    </tr>\n",
       "    <tr>\n",
       "      <th>1</th>\n",
       "      <td>23.169423</td>\n",
       "      <td>1760.20753</td>\n",
       "      <td>0</td>\n",
       "    </tr>\n",
       "    <tr>\n",
       "      <th>2</th>\n",
       "      <td>23.169423</td>\n",
       "      <td>1760.20753</td>\n",
       "      <td>0</td>\n",
       "    </tr>\n",
       "    <tr>\n",
       "      <th>3</th>\n",
       "      <td>23.169423</td>\n",
       "      <td>1760.20753</td>\n",
       "      <td>0</td>\n",
       "    </tr>\n",
       "    <tr>\n",
       "      <th>4</th>\n",
       "      <td>23.169423</td>\n",
       "      <td>1760.20753</td>\n",
       "      <td>0</td>\n",
       "    </tr>\n",
       "  </tbody>\n",
       "</table>\n",
       "</div>"
      ],
      "text/plain": [
       "         bmi         bmr  cluster\n",
       "0  23.169423  1760.20753        0\n",
       "1  23.169423  1760.20753        0\n",
       "2  23.169423  1760.20753        0\n",
       "3  23.169423  1760.20753        0\n",
       "4  23.169423  1760.20753        0"
      ]
     },
     "execution_count": 29,
     "metadata": {},
     "output_type": "execute_result"
    }
   ],
   "source": [
    "# Create cluster column\n",
    "scan['cluster'] = dbscan.labels_\n",
    "\n",
    "scan.head()"
   ]
  },
  {
   "cell_type": "code",
   "execution_count": 30,
   "id": "7f0a92e2-33fc-469e-badb-cacdef7a7fca",
   "metadata": {
    "tags": []
   },
   "outputs": [
    {
     "data": {
      "image/png": "[encoded data removed]",
      "text/plain": [
       "<Figure size 567.75x500 with 5 Axes>"
      ]
     },
     "metadata": {},
     "output_type": "display_data"
    }
   ],
   "source": [
    "# Pairplot\n",
    "sns.pairplot(scan,\n",
    "            hue = 'cluster',\n",
    "            corner = True,\n",
    "            palette = 'viridis');"
   ]
  },
  {
   "cell_type": "markdown",
   "id": "94ee896b-5b35-4a8a-aff2-19b1d978e496",
   "metadata": {},
   "source": [
    "***Above pairplot is giving us 6 columns per base epsilon.***"
   ]
  },
  {
   "cell_type": "code",
   "execution_count": 31,
   "id": "86aa120e-3c6a-4717-95f7-617a98626d7a",
   "metadata": {
    "tags": []
   },
   "outputs": [
    {
     "data": {
      "text/plain": [
       "0     0.706258\n",
       "6     0.067209\n",
       "5     0.050128\n",
       "2     0.037995\n",
       "4     0.036558\n",
       "3     0.024266\n",
       "1     0.023308\n",
       "10    0.015006\n",
       "9     0.014049\n",
       "8     0.012931\n",
       "7     0.012292\n",
       "Name: cluster, dtype: float64"
      ]
     },
     "execution_count": 31,
     "metadata": {},
     "output_type": "execute_result"
    }
   ],
   "source": [
    "scan.cluster.value_counts(normalize = True)"
   ]
  },
  {
   "cell_type": "markdown",
   "id": "b9419db8-c0d9-4ac5-8ded-a7360c6c84a2",
   "metadata": {},
   "source": [
    "## Change the Value of Epsilon."
   ]
  },
  {
   "cell_type": "code",
   "execution_count": 32,
   "id": "c4661726-f18c-402d-ba23-fe52aaf84dc7",
   "metadata": {
    "tags": []
   },
   "outputs": [
    {
     "data": {
      "text/html": [
       "<style>#sk-container-id-2 {color: black;background-color: white;}#sk-container-id-2 pre{padding: 0;}#sk-container-id-2 div.sk-toggleable {background-color: white;}#sk-container-id-2 label.sk-toggleable__label {cursor: pointer;display: block;width: 100%;margin-bottom: 0;padding: 0.3em;box-sizing: border-box;text-align: center;}#sk-container-id-2 label.sk-toggleable__label-arrow:before {content: \"▸\";float: left;margin-right: 0.25em;color: #696969;}#sk-container-id-2 label.sk-toggleable__label-arrow:hover:before {color: black;}#sk-container-id-2 div.sk-estimator:hover label.sk-toggleable__label-arrow:before {color: black;}#sk-container-id-2 div.sk-toggleable__content {max-height: 0;max-width: 0;overflow: hidden;text-align: left;background-color: #f0f8ff;}#sk-container-id-2 div.sk-toggleable__content pre {margin: 0.2em;color: black;border-radius: 0.25em;background-color: #f0f8ff;}#sk-container-id-2 input.sk-toggleable__control:checked~div.sk-toggleable__content {max-height: 200px;max-width: 100%;overflow: auto;}#sk-container-id-2 input.sk-toggleable__control:checked~label.sk-toggleable__label-arrow:before {content: \"▾\";}#sk-container-id-2 div.sk-estimator input.sk-toggleable__control:checked~label.sk-toggleable__label {background-color: #d4ebff;}#sk-container-id-2 div.sk-label input.sk-toggleable__control:checked~label.sk-toggleable__label {background-color: #d4ebff;}#sk-container-id-2 input.sk-hidden--visually {border: 0;clip: rect(1px 1px 1px 1px);clip: rect(1px, 1px, 1px, 1px);height: 1px;margin: -1px;overflow: hidden;padding: 0;position: absolute;width: 1px;}#sk-container-id-2 div.sk-estimator {font-family: monospace;background-color: #f0f8ff;border: 1px dotted black;border-radius: 0.25em;box-sizing: border-box;margin-bottom: 0.5em;}#sk-container-id-2 div.sk-estimator:hover {background-color: #d4ebff;}#sk-container-id-2 div.sk-parallel-item::after {content: \"\";width: 100%;border-bottom: 1px solid gray;flex-grow: 1;}#sk-container-id-2 div.sk-label:hover label.sk-toggleable__label {background-color: #d4ebff;}#sk-container-id-2 div.sk-serial::before {content: \"\";position: absolute;border-left: 1px solid gray;box-sizing: border-box;top: 0;bottom: 0;left: 50%;z-index: 0;}#sk-container-id-2 div.sk-serial {display: flex;flex-direction: column;align-items: center;background-color: white;padding-right: 0.2em;padding-left: 0.2em;position: relative;}#sk-container-id-2 div.sk-item {position: relative;z-index: 1;}#sk-container-id-2 div.sk-parallel {display: flex;align-items: stretch;justify-content: center;background-color: white;position: relative;}#sk-container-id-2 div.sk-item::before, #sk-container-id-2 div.sk-parallel-item::before {content: \"\";position: absolute;border-left: 1px solid gray;box-sizing: border-box;top: 0;bottom: 0;left: 50%;z-index: -1;}#sk-container-id-2 div.sk-parallel-item {display: flex;flex-direction: column;z-index: 1;position: relative;background-color: white;}#sk-container-id-2 div.sk-parallel-item:first-child::after {align-self: flex-end;width: 50%;}#sk-container-id-2 div.sk-parallel-item:last-child::after {align-self: flex-start;width: 50%;}#sk-container-id-2 div.sk-parallel-item:only-child::after {width: 0;}#sk-container-id-2 div.sk-dashed-wrapped {border: 1px dashed gray;margin: 0 0.4em 0.5em 0.4em;box-sizing: border-box;padding-bottom: 0.4em;background-color: white;}#sk-container-id-2 div.sk-label label {font-family: monospace;font-weight: bold;display: inline-block;line-height: 1.2em;}#sk-container-id-2 div.sk-label-container {text-align: center;}#sk-container-id-2 div.sk-container {/* jupyter's `normalize.less` sets `[hidden] { display: none; }` but bootstrap.min.css set `[hidden] { display: none !important; }` so we also need the `!important` here to be able to override the default hidden behavior on the sphinx rendered scikit-learn.org. See: https://github.com/scikit-learn/scikit-learn/issues/21755 */display: inline-block !important;position: relative;}#sk-container-id-2 div.sk-text-repr-fallback {display: none;}</style><div id=\"sk-container-id-2\" class=\"sk-top-container\"><div class=\"sk-text-repr-fallback\"><pre>DBSCAN(eps=0.9)</pre><b>In a Jupyter environment, please rerun this cell to show the HTML representation or trust the notebook. <br />On GitHub, the HTML representation is unable to render, please try loading this page with nbviewer.org.</b></div><div class=\"sk-container\" hidden><div class=\"sk-item\"><div class=\"sk-estimator sk-toggleable\"><input class=\"sk-toggleable__control sk-hidden--visually\" id=\"sk-estimator-id-2\" type=\"checkbox\" checked><label for=\"sk-estimator-id-2\" class=\"sk-toggleable__label sk-toggleable__label-arrow\">DBSCAN</label><div class=\"sk-toggleable__content\"><pre>DBSCAN(eps=0.9)</pre></div></div></div></div></div>"
      ],
      "text/plain": [
       "DBSCAN(eps=0.9)"
      ]
     },
     "execution_count": 32,
     "metadata": {},
     "output_type": "execute_result"
    }
   ],
   "source": [
    "dbscan = DBSCAN(eps=.9)\n",
    "\n",
    "dbscan.fit(X_scaled)"
   ]
  },
  {
   "cell_type": "code",
   "execution_count": 33,
   "id": "9579dba7-cf1a-40ba-bf96-327549404577",
   "metadata": {
    "tags": []
   },
   "outputs": [
    {
     "data": {
      "text/plain": [
       "array([0, 1, 2])"
      ]
     },
     "execution_count": 33,
     "metadata": {},
     "output_type": "execute_result"
    }
   ],
   "source": [
    "pd.Series(dbscan.labels_).unique()"
   ]
  },
  {
   "cell_type": "code",
   "execution_count": 34,
   "id": "f798d6a6-c5fb-47a8-b3ee-65e18f34be81",
   "metadata": {
    "tags": []
   },
   "outputs": [
    {
     "data": {
      "text/plain": [
       "0.39193466658557996"
      ]
     },
     "execution_count": 34,
     "metadata": {},
     "output_type": "execute_result"
    }
   ],
   "source": [
    "silhouette_score(X_scaled, dbscan.labels_)"
   ]
  },
  {
   "cell_type": "markdown",
   "id": "015b69e8-7667-43c4-8542-5665c37988d6",
   "metadata": {},
   "source": [
    "***By changing the value of epsilon, we noticed a spike in our silhouette score, but the model is still performing poorly.***"
   ]
  },
  {
   "cell_type": "code",
   "execution_count": 35,
   "id": "392685cd-f1d5-4ec1-8bf3-d328a5b0893d",
   "metadata": {
    "tags": []
   },
   "outputs": [
    {
     "data": {
      "text/plain": [
       "0    0.963761\n",
       "1    0.023308\n",
       "2    0.012931\n",
       "Name: cluster, dtype: float64"
      ]
     },
     "execution_count": 35,
     "metadata": {},
     "output_type": "execute_result"
    }
   ],
   "source": [
    "scan['cluster'] = dbscan.labels_\n",
    "\n",
    "scan.cluster.value_counts(normalize=True)"
   ]
  },
  {
   "cell_type": "code",
   "execution_count": 36,
   "id": "4f831236-adeb-4a16-885d-b3d1966c34aa",
   "metadata": {
    "tags": []
   },
   "outputs": [
    {
     "data": {
      "image/png": "[encoded data removed]",
      "text/plain": [
       "<Figure size 558.875x500 with 5 Axes>"
      ]
     },
     "metadata": {},
     "output_type": "display_data"
    }
   ],
   "source": [
    "sns.pairplot(scan,\n",
    "            hue = 'cluster',\n",
    "            palette = 'viridis',\n",
    "            corner = True);"
   ]
  },
  {
   "cell_type": "markdown",
   "id": "1330457d-a6af-4310-8b64-ccad0d217b6d",
   "metadata": {},
   "source": [
    "***After changing our epsilon value, we now have 3 columns.***"
   ]
  },
  {
   "cell_type": "markdown",
   "id": "89409a06-d962-43bc-8561-7410972c7d44",
   "metadata": {},
   "source": [
    "## Random Forests"
   ]
  },
  {
   "cell_type": "code",
   "execution_count": 37,
   "id": "419729af-c39a-4f0b-9d8c-5e8daf10309c",
   "metadata": {
    "tags": []
   },
   "outputs": [
    {
     "name": "stdout",
     "output_type": "stream",
     "text": [
      "Accuracy: 0.88\n"
     ]
    }
   ],
   "source": [
    "X = first.drop(columns=[\"activity\", \"weight_pounds\", \"height_inches\", \"bmi\", \"bmr\",'bmi category'])\n",
    "\n",
    "X_encoded = pd.get_dummies(X, columns=[\"device\"], drop_first=True)\n",
    "\n",
    "y = first[\"activity\"]\n",
    "\n",
    "X_train, X_test, y_train, y_test = train_test_split(X_encoded, y, test_size=0.2, random_state=42)\n",
    "\n",
    "model = RandomForestClassifier(random_state=42)\n",
    "model.fit(X_train, y_train)\n",
    "\n",
    "y_pred = model.predict(X_test)\n",
    "\n",
    "# Calculate accuracy\n",
    "model.score()\n",
    "accuracy = accuracy_score(y_test, y_pred)\n",
    "print(f\"Accuracy: {accuracy:.2f}\")"
   ]
  },
  {
   "cell_type": "code",
   "execution_count": 38,
   "id": "adb3ed38-888d-4e82-9557-3bb8fa6e8f47",
   "metadata": {
    "tags": []
   },
   "outputs": [
    {
     "data": {
      "text/plain": [
       "1.0"
      ]
     },
     "execution_count": 38,
     "metadata": {},
     "output_type": "execute_result"
    }
   ],
   "source": [
    "model.score(X_train, y_train)"
   ]
  },
  {
   "cell_type": "markdown",
   "id": "9c5e431c-1dd5-4077-8ea1-5306ad6f7a50",
   "metadata": {},
   "source": [
    "***Our predicted accuracy shows that our model is performing well at predicting activity type for users based on their fitness and health data.***"
   ]
  }
 ],
 "metadata": {
  "kernelspec": {
   "display_name": "Python 3 (ipykernel)",
   "language": "python",
   "name": "python3"
  },
  "language_info": {
   "codemirror_mode": {
    "name": "ipython",
    "version": 3
   },
   "file_extension": ".py",
   "mimetype": "text/x-python",
   "name": "python",
   "nbconvert_exporter": "python",
   "pygments_lexer": "ipython3",
   "version": "3.8.16"
  }
 },
 "nbformat": 4,
 "nbformat_minor": 5
}
