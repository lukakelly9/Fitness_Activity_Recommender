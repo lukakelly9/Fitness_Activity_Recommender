{
 "cells": [
  {
   "cell_type": "markdown",
   "id": "dae9eec3-9e35-4cdd-b911-05eff21f08f9",
   "metadata": {},
   "source": [
    "# Recommender:"
   ]
  },
  {
   "cell_type": "markdown",
   "id": "55646d6f-f5a1-4587-9a53-1d7beed878ee",
   "metadata": {},
   "source": [
    "## Imports"
   ]
  },
  {
   "cell_type": "code",
   "execution_count": 1,
   "id": "6cbdb1f7-9da4-463b-bae2-7027c16f2eb0",
   "metadata": {
    "tags": []
   },
   "outputs": [],
   "source": [
    "import numpy as np\n",
    "import pandas as pd"
   ]
  },
  {
   "cell_type": "markdown",
   "id": "c3d8d949-daf8-4223-af98-e2f1943c3d16",
   "metadata": {},
   "source": [
    "## Building the Recommender System."
   ]
  },
  {
   "cell_type": "markdown",
   "id": "45d3b186-5dc9-4188-8bf3-51bd91027ca6",
   "metadata": {},
   "source": [
    "***Loading in an activity dataset.***"
   ]
  },
  {
   "cell_type": "code",
   "execution_count": 2,
   "id": "f34a2909-40f7-4b2e-82e7-bac0fd1dcda9",
   "metadata": {
    "tags": []
   },
   "outputs": [],
   "source": [
    "fitness = pd.read_csv('../data/exercise_dataset.csv')"
   ]
  },
  {
   "cell_type": "code",
   "execution_count": 3,
   "id": "1dcd08ae-7281-4abc-a8d8-25460d3cf604",
   "metadata": {
    "tags": []
   },
   "outputs": [
    {
     "data": {
      "text/html": [
       "<div>\n",
       "<style scoped>\n",
       "    .dataframe tbody tr th:only-of-type {\n",
       "        vertical-align: middle;\n",
       "    }\n",
       "\n",
       "    .dataframe tbody tr th {\n",
       "        vertical-align: top;\n",
       "    }\n",
       "\n",
       "    .dataframe thead th {\n",
       "        text-align: right;\n",
       "    }\n",
       "</style>\n",
       "<table border=\"1\" class=\"dataframe\">\n",
       "  <thead>\n",
       "    <tr style=\"text-align: right;\">\n",
       "      <th></th>\n",
       "      <th>Activity, Exercise or Sport (1 hour)</th>\n",
       "      <th>130 lb</th>\n",
       "      <th>155 lb</th>\n",
       "      <th>180 lb</th>\n",
       "      <th>205 lb</th>\n",
       "      <th>Calories per kg</th>\n",
       "    </tr>\n",
       "  </thead>\n",
       "  <tbody>\n",
       "    <tr>\n",
       "      <th>0</th>\n",
       "      <td>Cycling, mountain bike, bmx</td>\n",
       "      <td>502</td>\n",
       "      <td>598</td>\n",
       "      <td>695</td>\n",
       "      <td>791</td>\n",
       "      <td>1.750730</td>\n",
       "    </tr>\n",
       "    <tr>\n",
       "      <th>1</th>\n",
       "      <td>Cycling, &lt;10 mph, leisure bicycling</td>\n",
       "      <td>236</td>\n",
       "      <td>281</td>\n",
       "      <td>327</td>\n",
       "      <td>372</td>\n",
       "      <td>0.823236</td>\n",
       "    </tr>\n",
       "    <tr>\n",
       "      <th>2</th>\n",
       "      <td>Cycling, &gt;20 mph, racing</td>\n",
       "      <td>944</td>\n",
       "      <td>1126</td>\n",
       "      <td>1308</td>\n",
       "      <td>1489</td>\n",
       "      <td>3.294974</td>\n",
       "    </tr>\n",
       "    <tr>\n",
       "      <th>3</th>\n",
       "      <td>Cycling, 10-11.9 mph, light</td>\n",
       "      <td>354</td>\n",
       "      <td>422</td>\n",
       "      <td>490</td>\n",
       "      <td>558</td>\n",
       "      <td>1.234853</td>\n",
       "    </tr>\n",
       "    <tr>\n",
       "      <th>4</th>\n",
       "      <td>Cycling, 12-13.9 mph, moderate</td>\n",
       "      <td>472</td>\n",
       "      <td>563</td>\n",
       "      <td>654</td>\n",
       "      <td>745</td>\n",
       "      <td>1.647825</td>\n",
       "    </tr>\n",
       "  </tbody>\n",
       "</table>\n",
       "</div>"
      ],
      "text/plain": [
       "  Activity, Exercise or Sport (1 hour)  130 lb  155 lb  180 lb  205 lb  \\\n",
       "0          Cycling, mountain bike, bmx     502     598     695     791   \n",
       "1  Cycling, <10 mph, leisure bicycling     236     281     327     372   \n",
       "2             Cycling, >20 mph, racing     944    1126    1308    1489   \n",
       "3          Cycling, 10-11.9 mph, light     354     422     490     558   \n",
       "4       Cycling, 12-13.9 mph, moderate     472     563     654     745   \n",
       "\n",
       "   Calories per kg  \n",
       "0         1.750730  \n",
       "1         0.823236  \n",
       "2         3.294974  \n",
       "3         1.234853  \n",
       "4         1.647825  "
      ]
     },
     "execution_count": 3,
     "metadata": {},
     "output_type": "execute_result"
    }
   ],
   "source": [
    "fitness.head()"
   ]
  },
  {
   "cell_type": "markdown",
   "id": "a5c98c55-6cad-4579-a9b3-5045766845b8",
   "metadata": {},
   "source": [
    "***After going through 248 different activities we narrowed it down to 15 activities that can be accessed by everyone and also be done alone.***"
   ]
  },
  {
   "cell_type": "code",
   "execution_count": 4,
   "id": "7d6b5e4e-9d37-4313-8ce1-db2884ce6179",
   "metadata": {
    "tags": []
   },
   "outputs": [
    {
     "name": "stdout",
     "output_type": "stream",
     "text": [
      "       Activity, Exercise or Sport (1 hour)  130 lb  155 lb  180 lb  205 lb  \\\n",
      "4            Cycling, 12-13.9 mph, moderate     472     563     654     745   \n",
      "14                      Calisthenics, light     207     246     286     326   \n",
      "16  Weight lifting, body building, vigorous     354     422     490     558   \n",
      "17            Weight lifting, light workout     177     211     245     279   \n",
      "19                            Stair machine     531     633     735     838   \n",
      "\n",
      "    Calories per kg  \n",
      "4          1.647825  \n",
      "14         0.721008  \n",
      "16         1.234853  \n",
      "17         0.617427  \n",
      "19         1.852957  \n"
     ]
    }
   ],
   "source": [
    "exercise_categories_to_keep = [\n",
    "    'Cycling, 12-13.9 mph, moderate',\n",
    "    'Weight lifting, body building, vigorous',\n",
    "    'Weight lifting, light workout',\n",
    "    'Calisthenics, vigorous, pushups, situps',\n",
    "    'Calisthenics, light',\n",
    "    'Running, general',\n",
    "    'Jumping rope, moderate',\n",
    "    'Walking 3.0 mph, moderate',\n",
    "    'Swimming leisurely, not laps',\n",
    "    'Tai chi',\n",
    "    'Backpacking, Hiking with pack',\n",
    "    'Aerobics, general',\n",
    "    'Stretching, hatha yoga',\n",
    "    'Rowing machine, moderate',\n",
    "    'Stair machine',\n",
    "    'Jazzercise'\n",
    "]\n",
    "\n",
    "fitness = fitness[fitness['Activity, Exercise or Sport (1 hour)'].isin(exercise_categories_to_keep)]\n",
    "\n",
    "print(fitness.head())"
   ]
  },
  {
   "cell_type": "markdown",
   "id": "48545f99-ffd5-4118-bcf6-66f76fb04ea0",
   "metadata": {},
   "source": [
    "***Renamed the activities so the general audience using this system will be able to identify easily the activity in question.***"
   ]
  },
  {
   "cell_type": "markdown",
   "id": "116605b0-dd51-4545-9fb1-f2714766aa71",
   "metadata": {
    "tags": []
   },
   "source": [
    "activities_to_rename = {\n",
    "    'Cycling, 12-13.9 mph, moderate': 'Moderate Cycling',\n",
    "    'Weight lifting, body building, vigorous': 'Vigorous Weight Lifting',\n",
    "    'Weight lifting, light workout': 'Light Weight Lifting',\n",
    "    'Calisthenics, vigorous, pushups, situps': 'Vigorous Calisthenics',\n",
    "    'Calisthenics, light': 'Light Calisthenics',\n",
    "    'Running, general': 'General Running',\n",
    "    'Jumping rope, moderate': 'Moderate Jumping Rope',\n",
    "    'Walking 3.0 mph, moderate': 'Moderate Walking',\n",
    "    'Swimming leisurely, not laps': 'Leisurely Swimming',\n",
    "    'Tai chi': 'Tai Chi',\n",
    "    'Backpacking, Hiking with pack': 'Backpacking Hiking',\n",
    "    'Aerobics, general': 'General Aerobics',\n",
    "    'Stretching, hatha yoga': 'Hatha Yoga Stretching',\n",
    "    'Rowing machine, moderate': 'Moderate Rowing',\n",
    "    'Stair machine': 'Stair Machine',\n",
    "    'Jazzercise': 'Jazzercise'\n",
    "}\n",
    "\n",
    "fitness['Activity, Exercise or Sport (1 hour)'] = fitness['Activity, Exercise or Sport (1 hour)'].replace(activities_to_rename)\n",
    "\n",
    "fitness"
   ]
  },
  {
   "cell_type": "code",
   "execution_count": 6,
   "id": "e98ee0dd-af81-42bd-a982-ed0e6cfcfbda",
   "metadata": {
    "tags": []
   },
   "outputs": [
    {
     "name": "stdin",
     "output_type": "stream",
     "text": [
      "Enter weight in pounds:  500\n",
      "Enter BMI:  50\n",
      "Enter BMR:  5000\n",
      "Enter gender (Male/Female):  Male\n",
      "Enter age:  90\n"
     ]
    },
    {
     "name": "stdout",
     "output_type": "stream",
     "text": [
      "Recommended Exercises:\n",
      "Cardio exercises (e.g., running, cycling)\n",
      "Low-impact exercises (e.g., swimming, yoga)\n",
      "\n",
      "Calories burned per hour for each exercise:\n",
      "Moderate Cycling: 373.72 calories\n",
      "Light Calisthenics: 163.52 calories\n",
      "Vigorous Weight Lifting: 280.06 calories\n",
      "Light Weight Lifting: 140.03 calories\n",
      "Stair Machine: 420.24 calories\n",
      "Moderate Rowing: 326.89 calories\n",
      "General Aerobics: 303.55 calories\n",
      "Jazzercise: 280.06 calories\n",
      "Hatha Yoga Stretching: 186.71 calories\n",
      "General Running: 373.72 calories\n",
      "Moderate Jumping Rope: 467.07 calories\n",
      "Tai Chi: 186.71 calories\n",
      "Backpacking Hiking: 326.89 calories\n",
      "Moderate Walking: 154.16 calories\n",
      "Leisurely Swimming: 280.06 calories\n"
     ]
    }
   ],
   "source": [
    "def recommend_exercise(weight, bmi, bmr, gender, age):\n",
    "    recommended_exercises = []\n",
    "    \n",
    "    if weight > 0.8 and age <= 40:\n",
    "        recommended_exercises.append(\"High-intensity interval training (HIIT)\")\n",
    "    elif weight > 0.6:\n",
    "        recommended_exercises.append(\"Cardio exercises (e.g., running, cycling)\")\n",
    "    else:\n",
    "        recommended_exercises.append(\"Moderate-intensity exercises (e.g., brisk walking)\")\n",
    "    \n",
    "    if bmi > 30:\n",
    "        recommended_exercises.append(\"Low-impact exercises (e.g., swimming, yoga)\")\n",
    "    else:\n",
    "        recommended_exercises.append(\"Strength training exercises\")\n",
    "    \n",
    "    if bmr < 1500 and gender == \"Female\" and age > 40:\n",
    "        recommended_exercises.append(\"Pilates or light resistance training\")\n",
    "    \n",
    "    return recommended_exercises\n",
    "\n",
    "def get_user_input():\n",
    "    weight_lb = float(input(\"Enter weight in pounds: \"))\n",
    "    bmi = float(input(\"Enter BMI: \"))\n",
    "    bmr = float(input(\"Enter BMR: \"))\n",
    "    gender = input(\"Enter gender (Male/Female): \")\n",
    "    age = int(input(\"Enter age: \"))\n",
    "    \n",
    "    return weight_lb, bmi, bmr, gender, age\n",
    "\n",
    "def main():\n",
    "    weight_lb, bmi, bmr, gender, age = get_user_input()\n",
    "    weight_kg = weight_lb * 0.453592  # Convert pounds to kilograms\n",
    "    recommended_exercises = recommend_exercise(weight_kg, bmi, bmr, gender, age)\n",
    "\n",
    "    print(\"Recommended Exercises:\")\n",
    "    for exercise in recommended_exercises:\n",
    "        print(exercise)\n",
    "\n",
    "    # Exercise calorie information (calories per hour per kg)\n",
    "    exercise_calories = {\n",
    "        \"Moderate Cycling\": 1.647825,\n",
    "        \"Light Calisthenics\": 0.721008,\n",
    "        \"Vigorous Weight Lifting\": 1.234853,\n",
    "        \"Light Weight Lifting\": 0.617427,\n",
    "        \"Stair Machine\": 1.852957,\n",
    "        \"Moderate Rowing\": 1.441339,\n",
    "        \"General Aerobics\": 1.338435,\n",
    "        \"Jazzercise\": 1.234853,\n",
    "        \"Hatha Yoga Stretching\": 0.823236,\n",
    "        \"General Running\": 1.647825,\n",
    "        \"Moderate Jumping Rope\": 2.059443,\n",
    "        \"Tai Chi\": 0.823236,\n",
    "        \"Backpacking Hiking\": 1.441339,\n",
    "        \"Moderate Walking\": 0.679711,\n",
    "        \"Leisurely Swimming\": 1.234853\n",
    "    }\n",
    "\n",
    "    print(\"\\nCalories burned per hour for each exercise:\")\n",
    "    for exercise, calories_per_kg in exercise_calories.items():\n",
    "        calories_burned = calories_per_kg * weight_kg\n",
    "        print(f\"{exercise}: {calories_burned:.2f} calories\")\n",
    "\n",
    "if __name__ == \"__main__\":\n",
    "    main()"
   ]
  },
  {
   "cell_type": "markdown",
   "id": "9d5bb22e-e30b-461b-9f74-7693d7b87dd5",
   "metadata": {},
   "source": [
    "***Our system takes in several parameter inputs related to the user's characteristics and health metrics. Based on this information, it generates a list of recommended exercises tailored to the user's profile. The \"Calories burned per hour for each exercise\" portion of the code calculates and displays an estimate of the calories burned during various exercises based on the user's input weight. Based on these recommendations, we believe that this is the most optimal way for a user to achieve their health goals.***"
   ]
  },
  {
   "cell_type": "code",
   "execution_count": null,
   "id": "fd8861de-06d0-477e-84a2-7284a529a581",
   "metadata": {},
   "outputs": [],
   "source": []
  }
 ],
 "metadata": {
  "kernelspec": {
   "display_name": "Python 3 (ipykernel)",
   "language": "python",
   "name": "python3"
  },
  "language_info": {
   "codemirror_mode": {
    "name": "ipython",
    "version": 3
   },
   "file_extension": ".py",
   "mimetype": "text/x-python",
   "name": "python",
   "nbconvert_exporter": "python",
   "pygments_lexer": "ipython3",
   "version": "3.8.16"
  }
 },
 "nbformat": 4,
 "nbformat_minor": 5
}
